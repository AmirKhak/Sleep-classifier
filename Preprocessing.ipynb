{
  "nbformat": 4,
  "nbformat_minor": 0,
  "metadata": {
    "colab": {
      "name": "Preprocessing.ipynb",
      "provenance": [],
      "collapsed_sections": [],
      "machine_shape": "hm"
    },
    "kernelspec": {
      "name": "python3",
      "display_name": "Python 3"
    },
    "language_info": {
      "name": "python"
    }
  },
  "cells": [
    {
      "cell_type": "code",
      "execution_count": 1,
      "metadata": {
        "id": "CmFnBNoA32FO",
        "colab": {
          "base_uri": "https://localhost:8080/"
        },
        "outputId": "aab8641f-02b8-446d-888e-3ca784fd9d6b"
      },
      "outputs": [
        {
          "output_type": "stream",
          "name": "stdout",
          "text": [
            "Drive already mounted at /content/gdrive; to attempt to forcibly remount, call drive.mount(\"/content/gdrive\", force_remount=True).\n"
          ]
        }
      ],
      "source": [
        "from google.colab import drive\n",
        "drive.mount('/content/gdrive')"
      ]
    },
    {
      "cell_type": "code",
      "source": [
        "import os\n",
        "import random\n",
        "import shutil\n",
        "import numpy as np\n",
        "import matplotlib.pyplot as plt\n",
        "import pandas as pd\n",
        "import csv\n",
        "import tensorflow as tf\n",
        "from tensorflow import keras"
      ],
      "metadata": {
        "id": "oaRNzUDhTwLR"
      },
      "execution_count": 4,
      "outputs": []
    },
    {
      "cell_type": "code",
      "source": [
        "def PreprocessAWSFile(aws_file):\n",
        "  aws = pd.read_excel(aws_file)\n",
        "\n",
        "def strpTime(val):\n",
        "  offset = str(int(float(val[17:])>=30)*3)\n",
        "  return val[0:17] + offset + \"0\"\n",
        "\n",
        "def PreprocessAX3File(ax3_file):\n",
        "  ax3 = pd.read_csv(ax3_file, header=None, squeeze=True)\n",
        "\n",
        "  ax3.columns = (['Date_time', 'X', 'Y', 'Z', 'Light', 'Temp'])\n",
        "  ax3 = ax3.drop([\"Light\"], axis=1)\n",
        "  ax3 = ax3[:-1]\n",
        "\n",
        "  ax3['Label'] = ax3['Date_time'].map(lambda x : strpTime(x))\n",
        "\n",
        "  ax3 = ax3.groupby(['Label']).agg({'X': lambda x : list(x), \n",
        "                                    'Y': lambda x : list(x), \n",
        "                                    'Z': lambda x : list(x), \n",
        "                                    'Temp': lambda x : list(x)}).reset_index()\n",
        "\n",
        "  print(ax3.columns)\n",
        "  print(ax3.head(5))\n",
        "  print(ax3.tail(1))\n",
        "  return ax3"
      ],
      "metadata": {
        "id": "MXFOn2nTTyB-"
      },
      "execution_count": 5,
      "outputs": []
    },
    {
      "cell_type": "markdown",
      "source": [
        "Preprocessing AX3 Data"
      ],
      "metadata": {
        "id": "-lf3-AwLjtTd"
      }
    },
    {
      "cell_type": "code",
      "source": [
        "root_dir = '/content/gdrive/MyDrive/Data'\n",
        "ax3_dir = os.path.join(root_dir, \"18 participants/AX3/Extracted\")\n",
        "psg_dir = os.path.join(root_dir, \"18 participants/PSG\")\n",
        "\n",
        "ax3_files = os.listdir(ax3_dir)\n",
        "psg_files = os.listdir(psg_dir)\n",
        "\n",
        "ax3_file = os.path.join(ax3_dir, ax3_files[0])\n",
        "\n",
        "ax3 = None\n",
        "ax3 = PreprocessAX3File(ax3_file)\n"
      ],
      "metadata": {
        "id": "ETfw6xVMa5gK"
      },
      "execution_count": null,
      "outputs": []
    },
    {
      "cell_type": "markdown",
      "source": [
        "Preprocessing AWS Data"
      ],
      "metadata": {
        "id": "jBZKZSSQj1Yn"
      }
    },
    {
      "cell_type": "code",
      "source": [
        "aws_file = os.path.join(root_dir, \"18 participants/AWS/SDRI001_AWS_ALL_ALLV4_N1.xlsx\")\n"
      ],
      "metadata": {
        "id": "D11fa-evj7Rk"
      },
      "execution_count": null,
      "outputs": []
    },
    {
      "cell_type": "markdown",
      "source": [
        "Merging AX3 and AWS Data"
      ],
      "metadata": {
        "id": "O8H44uCfj76T"
      }
    },
    {
      "cell_type": "code",
      "source": [
        ""
      ],
      "metadata": {
        "id": "YgTFJhALkA9s"
      },
      "execution_count": null,
      "outputs": []
    }
  ]
}