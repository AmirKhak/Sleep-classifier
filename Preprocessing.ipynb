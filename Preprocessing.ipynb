{
  "nbformat": 4,
  "nbformat_minor": 0,
  "metadata": {
    "colab": {
      "name": "Preprocessing.ipynb",
      "provenance": [],
      "collapsed_sections": [],
      "machine_shape": "hm"
    },
    "kernelspec": {
      "name": "python3",
      "display_name": "Python 3"
    },
    "language_info": {
      "name": "python"
    }
  },
  "cells": [
    {
      "cell_type": "code",
      "execution_count": 2,
      "metadata": {
        "id": "CmFnBNoA32FO",
        "colab": {
          "base_uri": "https://localhost:8080/"
        },
        "outputId": "17a5f6e5-2f75-4b8d-9b50-a79907fbc30e"
      },
      "outputs": [
        {
          "output_type": "stream",
          "name": "stdout",
          "text": [
            "Drive already mounted at /content/gdrive; to attempt to forcibly remount, call drive.mount(\"/content/gdrive\", force_remount=True).\n"
          ]
        }
      ],
      "source": [
        "from google.colab import drive\n",
        "drive.mount('/content/gdrive')\n",
        "\n",
        "root_dir = '/content/gdrive/MyDrive/Data'"
      ]
    },
    {
      "cell_type": "code",
      "source": [
        "import os\n",
        "import random\n",
        "import shutil\n",
        "import numpy as np\n",
        "import matplotlib.pyplot as plt\n",
        "import pandas as pd\n",
        "import csv\n",
        "import tensorflow as tf\n",
        "from tensorflow import keras"
      ],
      "metadata": {
        "id": "oaRNzUDhTwLR"
      },
      "execution_count": 3,
      "outputs": []
    },
    {
      "cell_type": "code",
      "source": [
        "from pandas.core.frame import DataFrame\n",
        "from time import sleep\n",
        "\n",
        "def PreprocessAWSFile(aws_file, sheet_name):\n",
        "  aws = pd.read_excel(aws_file, sheet_name=9)\n",
        "  aws = aws.drop(['Line', 'Epoch', 'Day', 'Seconds', 'Off-Wrist Status', 'Marker', \n",
        "                  'White Light', 'Red Light', 'Green Light', 'Blue Light', \n",
        "                  'Sleep/Wake', 'Mobility', 'Interval Status', 'S/W Status'], axis=1)\n",
        "\n",
        "  aws_complete_minute = pd.DataFrame(aws['Activity'])\n",
        "  aws_complete_minute['Label'] = aws.apply(\n",
        "      lambda x: str(x['Date'])[:10] + ' ' + x['Time'].strftime(\"%H:%M:%S\"), axis=1)\n",
        "\n",
        "  aws_complete_half_minute = pd.DataFrame({'Activity': [np.nan] * aws.shape[0]})\n",
        "  aws_complete_half_minute['Label'] = aws.apply(\n",
        "      lambda x: str(x['Date'])[:10] + ' ' + x['Time'].strftime(\"%H:%M\")+':30', axis=1)\n",
        "\n",
        "  aws = pd.concat([aws_complete_half_minute, aws_complete_minute]).sort_values(\n",
        "      by=['Label']).reset_index(drop=True)\n",
        "\n",
        "  aws['Activity'] = aws['Activity'].interpolate().replace(np.nan, 0)\n",
        "  return aws\n",
        "\n",
        "def PreprocessAX3File(ax3_file, chunks = 2):\n",
        "  ax3 = pd.read_csv(ax3_file, header=None, squeeze=True)\n",
        "  section_size = int(ax3.shape[0] / chunks)\n",
        "  for i in range(chunks):\n",
        "    ax3_processed_part = PreprocessAX3Data(ax3[i * section_size: section_size * (i + 1)])\n",
        "    ax3_processed_part.to_pickle('part' + str(i+1) + '.pkl')\n",
        "    ax3_processed_part = None\n",
        "    print(i+1)\n",
        "    sleep(60) # Waiting for RAM to get emptied\n",
        "  ax3 = None\n",
        "\n",
        "def GetProcessedAX3Data(chunks = 2):\n",
        "  ax3 = None\n",
        "  for i in range(chunks):\n",
        "    file_name = 'part' + str(i+1) + '.pkl'\n",
        "    temp = pd.read_pickle(file_name)\n",
        "    ax3 = pd.concat([ax3, temp])\n",
        "    os.remove(file_name)\n",
        "    temp = 0\n",
        "  ax3 = ax3.reset_index()\n",
        "  return ax3\n",
        "\n",
        "def PreprocessAX3Data(ax3):\n",
        "  ax3.columns = (['Date_time', 'X', 'Y', 'Z', 'Light', 'Temp'])\n",
        "  ax3 = ax3.drop([\"Light\"], axis=1)\n",
        "  ax3 = ax3[:-1]\n",
        "\n",
        "  ax3['Label'] = ax3['Date_time'].map(lambda x : \n",
        "                x[0:17] + str(int(float(x[17:])>=30)*3) + \"0\")\n",
        "\n",
        "  ax3 = ax3.groupby(['Label']).agg({'X': lambda x : list(x), \n",
        "                                    'Y': lambda x : list(x), \n",
        "                                    'Z': lambda x : list(x), \n",
        "                                    'Temp': lambda x : list(x)}).reset_index()\n",
        "  print(len(ax3.iloc[10,2]))\n",
        "  return ax3\n",
        "\n",
        "def FixArraySize(arr):\n",
        "  arr = arr[:3000]\n",
        "  arr.extend(max(3000 - len(arr), 0) * [np.nan])\n",
        "  arr = pd.Series(arr).interpolate()\n",
        "  return arr.tolist()\n",
        "\n",
        "def FixAX3ListValueSize(ax3):\n",
        "  ax3['X'] = ax3['X'].apply(lambda x: FixArraySize(x))\n",
        "  ax3['Y'] = ax3['Y'].apply(lambda x: FixArraySize(x))\n",
        "  ax3['Z'] = ax3['Z'].apply(lambda x: FixArraySize(x))\n",
        "  ax3['Temp'] = ax3['Temp'].apply(lambda x: FixArraySize(x))\n",
        "  return ax3"
      ],
      "metadata": {
        "id": "MXFOn2nTTyB-"
      },
      "execution_count": 9,
      "outputs": []
    },
    {
      "cell_type": "markdown",
      "source": [
        "Merging AX3 and AWS Data"
      ],
      "metadata": {
        "id": "O8H44uCfj76T"
      }
    },
    {
      "cell_type": "code",
      "source": [
        "ax3_extracted_dir = os.path.join(root_dir, \"18 participants/AX3/Extracted\")\n",
        "ax3_saving_dir = os.path.join(root_dir, \"18 participants/AX3/Preprocessed\")\n",
        "aws_file = os.path.join(root_dir, \"18 participants/AWS/SDRI001_AWS_ALL_ALLV4_N1.xlsx\")\n",
        "psg_dir = os.path.join(root_dir, \"18 participants/PSG\")\n",
        "\n",
        "participant = 13\n",
        "\n",
        "aws = PreprocessAWSFile(aws_file, participant - 1)\n",
        "ax3_file = os.path.join(ax3_extracted_dir, \n",
        "                        \"AX3_step1_sub\" + str(participant) + \".csv\")\n",
        "save_file = os.path.join(ax3_saving_dir, \n",
        "                        \"AX3_step1_sub\" + str(participant) + \".pkl\")\n",
        "PreprocessAX3File(ax3_file, 4)\n",
        "sleep(60)\n",
        "ax3 = GetProcessedAX3Data(4)\n",
        "sleep(60)\n",
        "ax3 = FixAX3ListValueSize(ax3)\n",
        "ax3 = pd.merge(ax3, aws, on=\"Label\")\n",
        "ax3.to_pickle(save_file)\n",
        "print(ax3.head(5))\n",
        "\n"
      ],
      "metadata": {
        "colab": {
          "base_uri": "https://localhost:8080/"
        },
        "id": "YgTFJhALkA9s",
        "outputId": "8fe39dc1-4756-4213-9c20-da3f48336b53"
      },
      "execution_count": null,
      "outputs": [
        {
          "output_type": "stream",
          "name": "stdout",
          "text": [
            "3064\n",
            "1\n"
          ]
        }
      ]
    }
  ]
}