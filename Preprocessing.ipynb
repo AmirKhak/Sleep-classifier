{
  "nbformat": 4,
  "nbformat_minor": 0,
  "metadata": {
    "colab": {
      "name": "Preprocessing.ipynb",
      "provenance": [],
      "collapsed_sections": [],
      "machine_shape": "hm"
    },
    "kernelspec": {
      "name": "python3",
      "display_name": "Python 3"
    },
    "language_info": {
      "name": "python"
    }
  },
  "cells": [
    {
      "cell_type": "code",
      "execution_count": 2,
      "metadata": {
        "id": "CmFnBNoA32FO",
        "colab": {
          "base_uri": "https://localhost:8080/"
        },
        "outputId": "17a5f6e5-2f75-4b8d-9b50-a79907fbc30e"
      },
      "outputs": [
        {
          "output_type": "stream",
          "name": "stdout",
          "text": [
            "Drive already mounted at /content/gdrive; to attempt to forcibly remount, call drive.mount(\"/content/gdrive\", force_remount=True).\n"
          ]
        }
      ],
      "source": [
        "from google.colab import drive\n",
        "drive.mount('/content/gdrive')\n",
        "\n",
        "root_dir = '/content/gdrive/MyDrive/Data'"
      ]
    },
    {
      "cell_type": "code",
      "source": [
        "import os\n",
        "import random\n",
        "import shutil\n",
        "import numpy as np\n",
        "import matplotlib.pyplot as plt\n",
        "import pandas as pd\n",
        "import csv\n",
        "import tensorflow as tf\n",
        "from tensorflow import keras"
      ],
      "metadata": {
        "id": "oaRNzUDhTwLR"
      },
      "execution_count": 3,
      "outputs": []
    },
    {
      "cell_type": "code",
      "source": [
        "from pandas.core.frame import DataFrame\n",
        "from time import sleep\n",
        "\n",
        "def PreprocessAWSFile(aws_file, sheet_name):\n",
        "  aws = pd.read_excel(aws_file, sheet_name)\n",
        "  aws = aws.drop(['Line', 'Epoch', 'Day', 'Seconds', 'Off-Wrist Status', 'Marker', \n",
        "                  'White Light', 'Red Light', 'Green Light', 'Blue Light', \n",
        "                  'Sleep/Wake', 'Mobility', 'Interval Status', 'S/W Status'], axis=1)\n",
        "\n",
        "  aws_complete_minute = pd.DataFrame(aws['Activity'])\n",
        "  aws_complete_minute['Label'] = aws.apply(\n",
        "      lambda x: str(x['Date'])[:10] + ' ' + x['Time'].strftime(\"%H:%M:%S\"), axis=1)\n",
        "\n",
        "  aws_complete_half_minute = pd.DataFrame({'Activity': [np.nan] * aws.shape[0]})\n",
        "  aws_complete_half_minute['Label'] = aws.apply(\n",
        "      lambda x: str(x['Date'])[:10] + ' ' + x['Time'].strftime(\"%H:%M\")+':30', axis=1)\n",
        "\n",
        "  aws = pd.concat([aws_complete_half_minute, aws_complete_minute]).sort_values(\n",
        "      by=['Label']).reset_index(drop=True)\n",
        "\n",
        "  aws['Activity'] = aws['Activity'].interpolate().replace(np.nan, 0)\n",
        "  return aws\n",
        "\n",
        "def PreprocessAX3File(ax3_file, chunks = 2):\n",
        "  ax3 = pd.read_csv(ax3_file, header=None, squeeze=True)\n",
        "  section_size = int(ax3.shape[0] / chunks)\n",
        "  for i in range(chunks):\n",
        "    ax3_processed_part = PreprocessAX3Data(ax3[i * section_size: section_size * (i + 1)])\n",
        "    ax3_processed_part.to_pickle('part' + str(i+1) + '.pkl')\n",
        "    ax3_processed_part = None\n",
        "    print(i+1)\n",
        "    sleep(60) # Waiting for RAM to get emptied\n",
        "  ax3 = None\n",
        "\n",
        "def GetProcessedAX3Data(chunks = 2):\n",
        "  ax3 = None\n",
        "  for i in range(chunks):\n",
        "    file_name = 'part' + str(i+1) + '.pkl'\n",
        "    temp = pd.read_pickle(file_name)\n",
        "    ax3 = pd.concat([ax3, temp])\n",
        "    os.remove(file_name)\n",
        "    temp = 0\n",
        "  ax3 = ax3.reset_index()\n",
        "  return ax3\n",
        "\n",
        "def PreprocessAX3Data(ax3):\n",
        "  ax3.columns = (['Date_time', 'X', 'Y', 'Z', 'Light', 'Temp'])\n",
        "  ax3 = ax3.drop([\"Light\"], axis=1)\n",
        "  ax3 = ax3[:-1]\n",
        "\n",
        "  ax3['Label'] = ax3['Date_time'].map(lambda x : \n",
        "                x[0:17] + str(int(float(x[17:])>=30)*3) + \"0\")\n",
        "\n",
        "  ax3 = ax3.groupby(['Label']).agg({'X': lambda x : list(x), \n",
        "                                    'Y': lambda x : list(x), \n",
        "                                    'Z': lambda x : list(x), \n",
        "                                    'Temp': lambda x : list(x)}).reset_index()\n",
        "  print(len(ax3.iloc[10,2]))\n",
        "  return ax3\n",
        "\n",
        "def FixArraySize(arr):\n",
        "  arr = arr[:3000]\n",
        "  arr.extend(max(3000 - len(arr), 0) * [np.nan])\n",
        "  arr = pd.Series(arr).interpolate()\n",
        "  return arr.tolist()\n",
        "\n",
        "def FixAX3ListValueSize(ax3):\n",
        "  ax3['X'] = ax3['X'].apply(lambda x: FixArraySize(x))\n",
        "  ax3['Y'] = ax3['Y'].apply(lambda x: FixArraySize(x))\n",
        "  ax3['Z'] = ax3['Z'].apply(lambda x: FixArraySize(x))\n",
        "  ax3['Temp'] = ax3['Temp'].apply(lambda x: FixArraySize(x))\n",
        "  return ax3"
      ],
      "metadata": {
        "id": "MXFOn2nTTyB-"
      },
      "execution_count": 25,
      "outputs": []
    },
    {
      "cell_type": "markdown",
      "source": [
        "Merging AX3 and AWS Data"
      ],
      "metadata": {
        "id": "O8H44uCfj76T"
      }
    },
    {
      "cell_type": "code",
      "source": [
        "ax3_extracted_dir = os.path.join(root_dir, \"18 participants/AX3/Extracted\")\n",
        "ax3_saving_dir = os.path.join(root_dir, \"18 participants/AX3/Preprocessed\")\n",
        "aws_file = os.path.join(root_dir, \"18 participants/AWS/SDRI001_AWS_ALL_ALLV4_N1.xlsx\")\n",
        "psg_dir = os.path.join(root_dir, \"18 participants/PSG\")\n",
        "\n",
        "participant = 13\n",
        "\n",
        "aws = PreprocessAWSFile(aws_file, participant - 1)\n",
        "ax3_file = os.path.join(ax3_extracted_dir, \n",
        "                        \"AX3_step1_sub\" + str(participant) + \".csv\")\n",
        "save_file = os.path.join(ax3_saving_dir, \n",
        "                        \"AX3_step1_sub\" + str(participant) + \".pkl\")\n",
        "PreprocessAX3File(ax3_file, 4)\n",
        "sleep(60)\n",
        "ax3 = GetProcessedAX3Data(4)\n",
        "sleep(60)\n",
        "ax3 = FixAX3ListValueSize(ax3)\n",
        "merged = pd.merge(ax3, aws, on=\"Label\")\n",
        "merged.to_pickle(save_file)\n",
        "print(merged.head(5))\n",
        "\n"
      ],
      "metadata": {
        "colab": {
          "base_uri": "https://localhost:8080/"
        },
        "id": "YgTFJhALkA9s",
        "outputId": "0ee62119-ac76-4606-b6a8-8bd7237ccf14"
      },
      "execution_count": 11,
      "outputs": [
        {
          "output_type": "stream",
          "name": "stdout",
          "text": [
            "3064\n",
            "1\n",
            "3052\n",
            "2\n",
            "3046\n",
            "3\n",
            "3028\n",
            "4\n",
            "Empty DataFrame\n",
            "Columns: [index, Label, X, Y, Z, Temp, Activity]\n",
            "Index: []\n"
          ]
        }
      ]
    },
    {
      "cell_type": "code",
      "source": [
        "aws = PreprocessAWSFile(aws_file, 12)\n",
        "print(aws.head(5))\n",
        "\n"
      ],
      "metadata": {
        "colab": {
          "base_uri": "https://localhost:8080/"
        },
        "id": "zEEy9kXMdi78",
        "outputId": "8fcdf0a7-75ee-4705-d5fb-b959cbebc068"
      },
      "execution_count": 27,
      "outputs": [
        {
          "output_type": "stream",
          "name": "stdout",
          "text": [
            "   Activity                Label\n",
            "0       0.0  2020-02-28 14:16:00\n",
            "1       0.0  2020-02-28 14:16:30\n",
            "2       0.0  2020-02-28 14:17:00\n",
            "3       0.0  2020-02-28 14:17:30\n",
            "4       0.0  2020-02-28 14:18:00\n"
          ]
        }
      ]
    },
    {
      "cell_type": "code",
      "source": [
        "merged = pd.merge(ax3, aws, on=\"Label\")\n",
        "merged.to_pickle(save_file)\n",
        "print(merged.head(5))\n",
        "print(aws.head(5))\n"
      ],
      "metadata": {
        "colab": {
          "base_uri": "https://localhost:8080/"
        },
        "id": "OOwh7r_ZpTQM",
        "outputId": "7fde4df1-a0ee-4138-d7fe-8c166f4c61db"
      },
      "execution_count": 28,
      "outputs": [
        {
          "output_type": "stream",
          "name": "stdout",
          "text": [
            "   index                Label  \\\n",
            "0     86  2020-02-28 14:16:00   \n",
            "1     87  2020-02-28 14:16:30   \n",
            "2     88  2020-02-28 14:17:00   \n",
            "3     89  2020-02-28 14:17:30   \n",
            "4     90  2020-02-28 14:18:00   \n",
            "\n",
            "                                                   X  \\\n",
            "0  [0.9375, 0.9375, 0.9375, 0.9375, 0.9375, 0.937...   \n",
            "1  [0.46875, 0.4375, 0.4375, 0.4375, 0.453125, 0....   \n",
            "2  [0.9375, 0.921875, 0.921875, 0.921875, 0.92187...   \n",
            "3  [0.921875, 0.921875, 0.921875, 0.921875, 0.937...   \n",
            "4  [0.921875, 0.921875, 0.90625, 0.90625, 0.90625...   \n",
            "\n",
            "                                                   Y  \\\n",
            "0  [0.078125, 0.078125, 0.078125, 0.078125, 0.078...   \n",
            "1  [0.734375, 0.765625, 0.78125, 0.78125, 0.76562...   \n",
            "2  [0.15625, 0.15625, 0.15625, 0.15625, 0.15625, ...   \n",
            "3  [0.125, 0.125, 0.125, 0.125, 0.109375, 0.10937...   \n",
            "4  [0.109375, 0.09375, 0.09375, 0.109375, 0.10937...   \n",
            "\n",
            "                                                   Z  \\\n",
            "0  [0.171875, 0.171875, 0.171875, 0.171875, 0.187...   \n",
            "1  [0.125, 0.09375, 0.109375, 0.15625, 0.171875, ...   \n",
            "2  [0.203125, 0.203125, 0.203125, 0.203125, 0.187...   \n",
            "3  [0.203125, 0.203125, 0.1875, 0.1875, 0.1875, 0...   \n",
            "4  [0.265625, 0.25, 0.265625, 0.265625, 0.265625,...   \n",
            "\n",
            "                                                Temp  Activity  \n",
            "0  [263, 263, 263, 263, 263, 263, 263, 263, 263, ...       0.0  \n",
            "1  [263, 263, 263, 263, 263, 263, 263, 263, 263, ...       0.0  \n",
            "2  [263, 263, 263, 263, 263, 263, 263, 263, 263, ...       0.0  \n",
            "3  [263, 263, 263, 263, 263, 263, 263, 263, 263, ...       0.0  \n",
            "4  [263, 263, 263, 263, 263, 263, 263, 263, 263, ...       0.0  \n",
            "   Activity                Label\n",
            "0       0.0  2020-02-28 14:16:00\n",
            "1       0.0  2020-02-28 14:16:30\n",
            "2       0.0  2020-02-28 14:17:00\n",
            "3       0.0  2020-02-28 14:17:30\n",
            "4       0.0  2020-02-28 14:18:00\n"
          ]
        }
      ]
    }
  ]
}